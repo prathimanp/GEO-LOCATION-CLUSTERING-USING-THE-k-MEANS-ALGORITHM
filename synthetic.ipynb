{
 "cells": [
  {
   "cell_type": "code",
   "execution_count": null,
   "metadata": {},
   "outputs": [],
   "source": [
    "# Synthetic\n",
    "\n",
    "from graphing_imports import *\n",
    "\n",
    "words = []\n",
    "labels = ['lat', 'long', 'locationID']\n",
    "\n",
    "with open(filename + \"sample_geo.txt\") as f:\n",
    "    for line in f:\n",
    "        words.append([n for n in line.strip().split('\\t')])\n",
    "        \n",
    "df = pd.DataFrame.from_records(words[1:], columns=labels)\n",
    "\n",
    "data = [ dict(\n",
    "    type = 'scattergeo',\n",
    "    lon = df['long'],\n",
    "    lat = df['lat'],\n",
    "    text = df['locationID'],\n",
    "    marker = dict(\n",
    "        size = 2,\n",
    "        opacity = 0.8,\n",
    "        color = '#CF1020',\n",
    "        colorscale = 'Viridis'\n",
    "        ),\n",
    "    name='Locations'\n",
    ") ]\n",
    "\n",
    "layout = dict(\n",
    "    title = 'Synthetic Cluster Locations Data',\n",
    "    geo = dict(\n",
    "        showframe = False,\n",
    "        projection = dict(\n",
    "            type = 'Mercator'\n",
    "        ),\n",
    "        showland = True,\n",
    "        showcoastlines=False,\n",
    "        landcolor = 'rgb(234, 234, 234)'\n",
    "    ),\n",
    "    showlegend=True\n",
    ")\n",
    "\n",
    "fig = dict( data=data, layout=layout )\n",
    "offline.plot(fig)"
   ]
  }
 ],
 "metadata": {
  "kernelspec": {
   "display_name": "Python 3",
   "language": "python",
   "name": "python3"
  },
  "language_info": {
   "codemirror_mode": {
    "name": "ipython",
    "version": 3
   },
   "file_extension": ".py",
   "mimetype": "text/x-python",
   "name": "python",
   "nbconvert_exporter": "python",
   "pygments_lexer": "ipython3",
   "version": "3.8.3"
  }
 },
 "nbformat": 4,
 "nbformat_minor": 4
}
